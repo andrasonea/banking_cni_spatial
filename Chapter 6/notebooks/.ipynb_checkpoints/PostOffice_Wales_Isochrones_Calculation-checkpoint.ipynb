{
 "cells": [
  {
   "cell_type": "markdown",
   "metadata": {},
   "source": [
    "The purpose of this notebook is to calculate distance and time isochrones for a set of points. The points here are the post offices locations for an area which includes Wales and a 20km buffer bordering Wales. In a July 2019 extraction we've got 1202 for this area, out of which 846 only were within Wales' borders.\n",
    "\n",
    "It is in its current form provided to the reviewers of the paper **\"Geographic and Temporal Access to Basic Banking Services Offered through Post Offices in Wales\"**. \n",
    "\n",
    "The notebook is also a suplementary material to Chapter 4 of the PhD thesis of Andra Sonea.\n",
    "\n",
    "In order to run this code you need to apply for an API key for https://openrouteservice.org/plans/"
   ]
  },
  {
   "cell_type": "code",
   "execution_count": 4,
   "metadata": {},
   "outputs": [],
   "source": [
    "#import libraries\n",
    "import geopandas as gpd\n",
    "import pandas as pd\n",
    "import fiona\n",
    "import matplotlib.pyplot  as plt\n",
    "from shapely.geometry import shape, Polygon, mapping\n",
    "from shapely.ops import cascaded_union\n",
    "import json\n",
    "from tqdm import tqdm\n",
    "import time\n",
    "from openrouteservice import client #THE main library for this script is the one from OSR for calculating isochrones\n",
    "from descartes import PolygonPatch"
   ]
  },
  {
   "cell_type": "code",
   "execution_count": 6,
   "metadata": {},
   "outputs": [
    {
     "ename": "DriverError",
     "evalue": "../data/PO_data_Wales20km/PO_data_Wales20km.shp: No such file or directory",
     "output_type": "error",
     "traceback": [
      "\u001b[0;31m---------------------------------------------------------------------------\u001b[0m",
      "\u001b[0;31mCPLE_OpenFailedError\u001b[0m                      Traceback (most recent call last)",
      "\u001b[0;32mfiona/_shim.pyx\u001b[0m in \u001b[0;36mfiona._shim.gdal_open_vector\u001b[0;34m()\u001b[0m\n",
      "\u001b[0;32mfiona/_err.pyx\u001b[0m in \u001b[0;36mfiona._err.exc_wrap_pointer\u001b[0;34m()\u001b[0m\n",
      "\u001b[0;31mCPLE_OpenFailedError\u001b[0m: ../data/PO_data_Wales20km/PO_data_Wales20km.shp: No such file or directory",
      "\nDuring handling of the above exception, another exception occurred:\n",
      "\u001b[0;31mDriverError\u001b[0m                               Traceback (most recent call last)",
      "\u001b[0;32m<ipython-input-6-3d5ea19d1f25>\u001b[0m in \u001b[0;36m<module>\u001b[0;34m\u001b[0m\n\u001b[1;32m      1\u001b[0m \u001b[0mpo_file\u001b[0m \u001b[0;34m=\u001b[0m \u001b[0;34m'../data/PO_data_Wales20km/PO_data_Wales20km.shp'\u001b[0m\u001b[0;34m\u001b[0m\u001b[0;34m\u001b[0m\u001b[0m\n\u001b[0;32m----> 2\u001b[0;31m \u001b[0mpos\u001b[0m \u001b[0;34m=\u001b[0m \u001b[0mgpd\u001b[0m\u001b[0;34m.\u001b[0m\u001b[0mread_file\u001b[0m\u001b[0;34m(\u001b[0m\u001b[0mpo_file\u001b[0m\u001b[0;34m)\u001b[0m\u001b[0;34m\u001b[0m\u001b[0;34m\u001b[0m\u001b[0m\n\u001b[0m",
      "\u001b[0;32m~/opt/anaconda3/envs/GIS2020/lib/python3.7/site-packages/geopandas/io/file.py\u001b[0m in \u001b[0;36m_read_file\u001b[0;34m(filename, bbox, mask, rows, **kwargs)\u001b[0m\n\u001b[1;32m    158\u001b[0m \u001b[0;34m\u001b[0m\u001b[0m\n\u001b[1;32m    159\u001b[0m     \u001b[0;32mwith\u001b[0m \u001b[0mfiona_env\u001b[0m\u001b[0;34m(\u001b[0m\u001b[0;34m)\u001b[0m\u001b[0;34m:\u001b[0m\u001b[0;34m\u001b[0m\u001b[0;34m\u001b[0m\u001b[0m\n\u001b[0;32m--> 160\u001b[0;31m         \u001b[0;32mwith\u001b[0m \u001b[0mreader\u001b[0m\u001b[0;34m(\u001b[0m\u001b[0mpath_or_bytes\u001b[0m\u001b[0;34m,\u001b[0m \u001b[0;34m**\u001b[0m\u001b[0mkwargs\u001b[0m\u001b[0;34m)\u001b[0m \u001b[0;32mas\u001b[0m \u001b[0mfeatures\u001b[0m\u001b[0;34m:\u001b[0m\u001b[0;34m\u001b[0m\u001b[0;34m\u001b[0m\u001b[0m\n\u001b[0m\u001b[1;32m    161\u001b[0m \u001b[0;34m\u001b[0m\u001b[0m\n\u001b[1;32m    162\u001b[0m             \u001b[0;31m# In a future Fiona release the crs attribute of features will\u001b[0m\u001b[0;34m\u001b[0m\u001b[0;34m\u001b[0m\u001b[0;34m\u001b[0m\u001b[0m\n",
      "\u001b[0;32m~/opt/anaconda3/envs/GIS2020/lib/python3.7/site-packages/fiona/env.py\u001b[0m in \u001b[0;36mwrapper\u001b[0;34m(*args, **kwargs)\u001b[0m\n\u001b[1;32m    406\u001b[0m     \u001b[0;32mdef\u001b[0m \u001b[0mwrapper\u001b[0m\u001b[0;34m(\u001b[0m\u001b[0;34m*\u001b[0m\u001b[0margs\u001b[0m\u001b[0;34m,\u001b[0m \u001b[0;34m**\u001b[0m\u001b[0mkwargs\u001b[0m\u001b[0;34m)\u001b[0m\u001b[0;34m:\u001b[0m\u001b[0;34m\u001b[0m\u001b[0;34m\u001b[0m\u001b[0m\n\u001b[1;32m    407\u001b[0m         \u001b[0;32mif\u001b[0m \u001b[0mlocal\u001b[0m\u001b[0;34m.\u001b[0m\u001b[0m_env\u001b[0m\u001b[0;34m:\u001b[0m\u001b[0;34m\u001b[0m\u001b[0;34m\u001b[0m\u001b[0m\n\u001b[0;32m--> 408\u001b[0;31m             \u001b[0;32mreturn\u001b[0m \u001b[0mf\u001b[0m\u001b[0;34m(\u001b[0m\u001b[0;34m*\u001b[0m\u001b[0margs\u001b[0m\u001b[0;34m,\u001b[0m \u001b[0;34m**\u001b[0m\u001b[0mkwargs\u001b[0m\u001b[0;34m)\u001b[0m\u001b[0;34m\u001b[0m\u001b[0;34m\u001b[0m\u001b[0m\n\u001b[0m\u001b[1;32m    409\u001b[0m         \u001b[0;32melse\u001b[0m\u001b[0;34m:\u001b[0m\u001b[0;34m\u001b[0m\u001b[0;34m\u001b[0m\u001b[0m\n\u001b[1;32m    410\u001b[0m             \u001b[0;32mif\u001b[0m \u001b[0misinstance\u001b[0m\u001b[0;34m(\u001b[0m\u001b[0margs\u001b[0m\u001b[0;34m[\u001b[0m\u001b[0;36m0\u001b[0m\u001b[0;34m]\u001b[0m\u001b[0;34m,\u001b[0m \u001b[0mstr\u001b[0m\u001b[0;34m)\u001b[0m\u001b[0;34m:\u001b[0m\u001b[0;34m\u001b[0m\u001b[0;34m\u001b[0m\u001b[0m\n",
      "\u001b[0;32m~/opt/anaconda3/envs/GIS2020/lib/python3.7/site-packages/fiona/__init__.py\u001b[0m in \u001b[0;36mopen\u001b[0;34m(fp, mode, driver, schema, crs, encoding, layer, vfs, enabled_drivers, crs_wkt, **kwargs)\u001b[0m\n\u001b[1;32m    255\u001b[0m         \u001b[0;32mif\u001b[0m \u001b[0mmode\u001b[0m \u001b[0;32min\u001b[0m \u001b[0;34m(\u001b[0m\u001b[0;34m'a'\u001b[0m\u001b[0;34m,\u001b[0m \u001b[0;34m'r'\u001b[0m\u001b[0;34m)\u001b[0m\u001b[0;34m:\u001b[0m\u001b[0;34m\u001b[0m\u001b[0;34m\u001b[0m\u001b[0m\n\u001b[1;32m    256\u001b[0m             c = Collection(path, mode, driver=driver, encoding=encoding,\n\u001b[0;32m--> 257\u001b[0;31m                            layer=layer, enabled_drivers=enabled_drivers, **kwargs)\n\u001b[0m\u001b[1;32m    258\u001b[0m         \u001b[0;32melif\u001b[0m \u001b[0mmode\u001b[0m \u001b[0;34m==\u001b[0m \u001b[0;34m'w'\u001b[0m\u001b[0;34m:\u001b[0m\u001b[0;34m\u001b[0m\u001b[0;34m\u001b[0m\u001b[0m\n\u001b[1;32m    259\u001b[0m             \u001b[0;32mif\u001b[0m \u001b[0mschema\u001b[0m\u001b[0;34m:\u001b[0m\u001b[0;34m\u001b[0m\u001b[0;34m\u001b[0m\u001b[0m\n",
      "\u001b[0;32m~/opt/anaconda3/envs/GIS2020/lib/python3.7/site-packages/fiona/collection.py\u001b[0m in \u001b[0;36m__init__\u001b[0;34m(self, path, mode, driver, schema, crs, encoding, layer, vsi, archive, enabled_drivers, crs_wkt, ignore_fields, ignore_geometry, **kwargs)\u001b[0m\n\u001b[1;32m    160\u001b[0m             \u001b[0;32mif\u001b[0m \u001b[0mself\u001b[0m\u001b[0;34m.\u001b[0m\u001b[0mmode\u001b[0m \u001b[0;34m==\u001b[0m \u001b[0;34m'r'\u001b[0m\u001b[0;34m:\u001b[0m\u001b[0;34m\u001b[0m\u001b[0;34m\u001b[0m\u001b[0m\n\u001b[1;32m    161\u001b[0m                 \u001b[0mself\u001b[0m\u001b[0;34m.\u001b[0m\u001b[0msession\u001b[0m \u001b[0;34m=\u001b[0m \u001b[0mSession\u001b[0m\u001b[0;34m(\u001b[0m\u001b[0;34m)\u001b[0m\u001b[0;34m\u001b[0m\u001b[0;34m\u001b[0m\u001b[0m\n\u001b[0;32m--> 162\u001b[0;31m                 \u001b[0mself\u001b[0m\u001b[0;34m.\u001b[0m\u001b[0msession\u001b[0m\u001b[0;34m.\u001b[0m\u001b[0mstart\u001b[0m\u001b[0;34m(\u001b[0m\u001b[0mself\u001b[0m\u001b[0;34m,\u001b[0m \u001b[0;34m**\u001b[0m\u001b[0mkwargs\u001b[0m\u001b[0;34m)\u001b[0m\u001b[0;34m\u001b[0m\u001b[0;34m\u001b[0m\u001b[0m\n\u001b[0m\u001b[1;32m    163\u001b[0m             \u001b[0;32melif\u001b[0m \u001b[0mself\u001b[0m\u001b[0;34m.\u001b[0m\u001b[0mmode\u001b[0m \u001b[0;32min\u001b[0m \u001b[0;34m(\u001b[0m\u001b[0;34m'a'\u001b[0m\u001b[0;34m,\u001b[0m \u001b[0;34m'w'\u001b[0m\u001b[0;34m)\u001b[0m\u001b[0;34m:\u001b[0m\u001b[0;34m\u001b[0m\u001b[0;34m\u001b[0m\u001b[0m\n\u001b[1;32m    164\u001b[0m                 \u001b[0mself\u001b[0m\u001b[0;34m.\u001b[0m\u001b[0msession\u001b[0m \u001b[0;34m=\u001b[0m \u001b[0mWritingSession\u001b[0m\u001b[0;34m(\u001b[0m\u001b[0;34m)\u001b[0m\u001b[0;34m\u001b[0m\u001b[0;34m\u001b[0m\u001b[0m\n",
      "\u001b[0;32mfiona/ogrext.pyx\u001b[0m in \u001b[0;36mfiona.ogrext.Session.start\u001b[0;34m()\u001b[0m\n",
      "\u001b[0;32mfiona/_shim.pyx\u001b[0m in \u001b[0;36mfiona._shim.gdal_open_vector\u001b[0;34m()\u001b[0m\n",
      "\u001b[0;31mDriverError\u001b[0m: ../data/PO_data_Wales20km/PO_data_Wales20km.shp: No such file or directory"
     ]
    }
   ],
   "source": [
    "po_file = ''\n"
   ]
  },
  {
   "cell_type": "code",
   "execution_count": null,
   "metadata": {},
   "outputs": [],
   "source": []
  },
  {
   "cell_type": "code",
   "execution_count": 1,
   "metadata": {},
   "outputs": [
    {
     "ename": "SyntaxError",
     "evalue": "starred assignment target must be in a list or tuple (<ipython-input-1-7e3e84118a07>, line 6)",
     "output_type": "error",
     "traceback": [
      "\u001b[0;36m  File \u001b[0;32m\"<ipython-input-1-7e3e84118a07>\"\u001b[0;36m, line \u001b[0;32m6\u001b[0m\n\u001b[0;31mSyntaxError\u001b[0m\u001b[0;31m:\u001b[0m starred assignment target must be in a list or tuple\n"
     ]
    }
   ],
   "source": [
    "# points (post office locations)\n",
    "po_file = '../data/PO_data_Wales20km/'\n",
    "po_filename = '../data/PO_2020_Wales20km/' #espg: UK 4326..\n",
    "pos = gpd.read_file(po_filename)"
   ]
  },
  {
   "cell_type": "code",
   "execution_count": 3,
   "metadata": {},
   "outputs": [
    {
     "data": {
      "text/plain": [
       "<Geographic 2D CRS: EPSG:4326>\n",
       "Name: WGS 84\n",
       "Axis Info [ellipsoidal]:\n",
       "- Lat[north]: Geodetic latitude (degree)\n",
       "- Lon[east]: Geodetic longitude (degree)\n",
       "Area of Use:\n",
       "- name: World.\n",
       "- bounds: (-180.0, -90.0, 180.0, 90.0)\n",
       "Datum: World Geodetic System 1984 ensemble\n",
       "- Ellipsoid: WGS 84\n",
       "- Prime Meridian: Greenwich"
      ]
     },
     "execution_count": 3,
     "metadata": {},
     "output_type": "execute_result"
    }
   ],
   "source": [
    "# crs\n",
    "pos.crs"
   ]
  },
  {
   "cell_type": "code",
   "execution_count": 4,
   "metadata": {},
   "outputs": [
    {
     "name": "stdout",
     "output_type": "stream",
     "text": [
      "<class 'geopandas.geodataframe.GeoDataFrame'>\n",
      "RangeIndex: 1364 entries, 0 to 1363\n",
      "Data columns (total 57 columns):\n",
      " #   Column      Non-Null Count  Dtype   \n",
      "---  ------      --------------  -----   \n",
      " 0   code        1364 non-null   object  \n",
      " 1   link        1364 non-null   object  \n",
      " 2   processed   1364 non-null   int64   \n",
      " 3   name        1364 non-null   object  \n",
      " 4   tel         1364 non-null   object  \n",
      " 5   street      1364 non-null   object  \n",
      " 6   city        1364 non-null   object  \n",
      " 7   postalcode  1364 non-null   object  \n",
      " 8   country     1364 non-null   object  \n",
      " 9   latitude    1364 non-null   float64 \n",
      " 10  longitude   1364 non-null   float64 \n",
      " 11  MonOpen     1364 non-null   object  \n",
      " 12  MonClose    1364 non-null   object  \n",
      " 13  TueOpen     1364 non-null   object  \n",
      " 14  TueClose    1364 non-null   object  \n",
      " 15  WedOpen     1364 non-null   object  \n",
      " 16  WedClose    1364 non-null   object  \n",
      " 17  ThuOpen     1364 non-null   object  \n",
      " 18  ThuClose    1364 non-null   object  \n",
      " 19  FriOpen     1364 non-null   object  \n",
      " 20  FriClose    1364 non-null   object  \n",
      " 21  SatOpen     1364 non-null   object  \n",
      " 22  SatClose    1364 non-null   object  \n",
      " 23  SunOpen     1364 non-null   object  \n",
      " 24  SunClose    1364 non-null   object  \n",
      " 25  services    1364 non-null   object  \n",
      " 26  Name_1      1364 non-null   object  \n",
      " 27  LA          1364 non-null   object  \n",
      " 28  LAU118NM    1364 non-null   object  \n",
      " 29  NUTS218CD   1364 non-null   object  \n",
      " 30  NUTS218NM   1364 non-null   object  \n",
      " 31  Country_1   1364 non-null   object  \n",
      " 32  sqkm        1364 non-null   float64 \n",
      " 33  Popcount    1364 non-null   float64 \n",
      " 34  Age_U15     1364 non-null   float64 \n",
      " 35  Age_U64     1364 non-null   float64 \n",
      " 36  Age_Over65  1364 non-null   float64 \n",
      " 37  PropOver65  1364 non-null   float64 \n",
      " 38  income      1364 non-null   float64 \n",
      " 39  employ      1364 non-null   float64 \n",
      " 40  uk_imd      1364 non-null   float64 \n",
      " 41  no2m_pc     1364 non-null   float64 \n",
      " 42  D_1_ATM     1364 non-null   float64 \n",
      " 43  D2_ATM      1364 non-null   float64 \n",
      " 44  Impact_ATM  1364 non-null   float64 \n",
      " 45  D1_PO       1364 non-null   float64 \n",
      " 46  D2_PO       1364 non-null   float64 \n",
      " 47  Impact_PO   1364 non-null   float64 \n",
      " 48  D1_BrPh_02  1364 non-null   float64 \n",
      " 49  D2_BrPh_02  1364 non-null   float64 \n",
      " 50  Impact_BrP  1364 non-null   float64 \n",
      " 51  Dist1       1364 non-null   float64 \n",
      " 52  Dist1_type  1364 non-null   object  \n",
      " 53  Dist2       1364 non-null   float64 \n",
      " 54  Dist2_type  1364 non-null   object  \n",
      " 55  Impact_021  1364 non-null   float64 \n",
      " 56  geometry    1364 non-null   geometry\n",
      "dtypes: float64(24), geometry(1), int64(1), object(31)\n",
      "memory usage: 607.5+ KB\n"
     ]
    }
   ],
   "source": [
    "pos.info()"
   ]
  },
  {
   "cell_type": "code",
   "execution_count": 5,
   "metadata": {},
   "outputs": [],
   "source": [
    "if not 'iso-1m' in pos:\n",
    "    pos['iso-1m'] = ''\n",
    "if not 'iso-3m' in pos:\n",
    "    pos['iso-3m'] = ''\n",
    "if not 'iso-6m' in pos:\n",
    "    pos['iso-6m'] = ''"
   ]
  },
  {
   "cell_type": "code",
   "execution_count": 6,
   "metadata": {},
   "outputs": [],
   "source": [
    "#API key for access to ORS to calculate the isochrones\n",
    "api_key ='5b3ce3597851110001cf62487cfd2206e8ad4ced91cf682b2b778213'\n",
    "#api_key = '....here is your API key....'\n",
    "clnt = client.Client(key=api_key)"
   ]
  },
  {
   "cell_type": "code",
   "execution_count": 7,
   "metadata": {},
   "outputs": [],
   "source": [
    "# Here I split the list of points (post offices) in chunks of 5 becasue the ORS API accepts 5 points/request\n",
    "def chunks(lst, n):\n",
    "    \"\"\"Yield successive n-sized chunks from lst.\"\"\"\n",
    "    for i in range(0, len(lst), n):\n",
    "        yield lst[i:i + n]"
   ]
  },
  {
   "cell_type": "code",
   "execution_count": 8,
   "metadata": {},
   "outputs": [],
   "source": [
    "#function \"get_isochrones\" calculates isochrones for the points given. \n",
    "#The default selection is for \"driving-car\" (profile) and \"time\"(range_type).\n",
    "def get_isochrones(pointsdf,\n",
    "                   iso_dict_file,\n",
    "                   profile='foot-walking', \n",
    "                   range_type='time', \n",
    "                   range_list=[300, 600, 1200 ], \n",
    "                   attributes=['total_pop', 'area']):\n",
    "    try:\n",
    "        with open(iso_dict_file, 'r') as f:\n",
    "            iso_dict = json.load(f)\n",
    "    except:\n",
    "        iso_dict = {}\n",
    "    processed = iso_dict.keys()\n",
    "    #features = []\n",
    "    # filter dataframe for items that have already been processed\n",
    "    num_requests = 0\n",
    "    sel = pointsdf[~pointsdf['code'].isin(processed)]\n",
    "    print(f'{len(sel)} rows selected')\n",
    "    for locations in tqdm(chunks(sel, 5), total=len(sel)/5):\n",
    "        iso_params = {'locations': [geo.geoms[0].coords[0] for geo in locations['geometry']],\n",
    "                      'profile': profile,\n",
    "                      'range_type': range_type,\n",
    "                      'range': range_list,\n",
    "                      'attributes': attributes}\n",
    "        request = clnt.isochrones(**iso_params)\n",
    "        num_requests += 1\n",
    "        time.sleep(3)\n",
    "        #features.extend(request['features'])\n",
    "        # save results in dataframe\n",
    "        for index, loc in enumerate(locations.index):\n",
    "            po_id = pointsdf.at[loc, 'ID']\n",
    "            iso_1m = request['features'][index*3]\n",
    "            iso_3m = request['features'][index*3+1]\n",
    "            iso_6m = request['features'][index*3+2]\n",
    "            iso_dict[str(po_id)] = {'iso-1m': iso_1m, 'iso-3m': iso_3m, 'iso-6m': iso_6m}\n",
    "        with open(iso_dict_file, 'w') as f:\n",
    "            json.dump(iso_dict, f)\n",
    "    print(f'Executed {num_requests} requests')\n",
    "    return iso_dict"
   ]
  },
  {
   "cell_type": "code",
   "execution_count": 9,
   "metadata": {},
   "outputs": [
    {
     "name": "stdout",
     "output_type": "stream",
     "text": [
      "1364 rows selected\n"
     ]
    },
    {
     "name": "stderr",
     "output_type": "stream",
     "text": [
      "  0%|          | 0/272.8 [00:00<?, ?it/s]\n"
     ]
    },
    {
     "ename": "AttributeError",
     "evalue": "'Point' object has no attribute 'geoms'",
     "output_type": "error",
     "traceback": [
      "\u001b[0;31m---------------------------------------------------------------------------\u001b[0m",
      "\u001b[0;31mAttributeError\u001b[0m                            Traceback (most recent call last)",
      "\u001b[0;32m<ipython-input-9-7f89fc0dec34>\u001b[0m in \u001b[0;36m<module>\u001b[0;34m\u001b[0m\n\u001b[1;32m      1\u001b[0m \u001b[0;31m#execute \"get_isochrones\" & save all individual time & driving isochrones are saved here in a JSON\u001b[0m\u001b[0;34m\u001b[0m\u001b[0;34m\u001b[0m\u001b[0;34m\u001b[0m\u001b[0m\n\u001b[0;32m----> 2\u001b[0;31m \u001b[0miso_dict\u001b[0m \u001b[0;34m=\u001b[0m \u001b[0mget_isochrones\u001b[0m\u001b[0;34m(\u001b[0m\u001b[0mpos\u001b[0m\u001b[0;34m,\u001b[0m \u001b[0;34m'Wales_time_isochrones_car_all_test_dec_may22.json'\u001b[0m\u001b[0;34m)\u001b[0m\u001b[0;34m\u001b[0m\u001b[0;34m\u001b[0m\u001b[0m\n\u001b[0m",
      "\u001b[0;32m<ipython-input-8-4a50d5cd3217>\u001b[0m in \u001b[0;36mget_isochrones\u001b[0;34m(pointsdf, iso_dict_file, profile, range_type, range_list, attributes)\u001b[0m\n\u001b[1;32m     19\u001b[0m     \u001b[0mprint\u001b[0m\u001b[0;34m(\u001b[0m\u001b[0;34mf'{len(sel)} rows selected'\u001b[0m\u001b[0;34m)\u001b[0m\u001b[0;34m\u001b[0m\u001b[0;34m\u001b[0m\u001b[0m\n\u001b[1;32m     20\u001b[0m     \u001b[0;32mfor\u001b[0m \u001b[0mlocations\u001b[0m \u001b[0;32min\u001b[0m \u001b[0mtqdm\u001b[0m\u001b[0;34m(\u001b[0m\u001b[0mchunks\u001b[0m\u001b[0;34m(\u001b[0m\u001b[0msel\u001b[0m\u001b[0;34m,\u001b[0m \u001b[0;36m5\u001b[0m\u001b[0;34m)\u001b[0m\u001b[0;34m,\u001b[0m \u001b[0mtotal\u001b[0m\u001b[0;34m=\u001b[0m\u001b[0mlen\u001b[0m\u001b[0;34m(\u001b[0m\u001b[0msel\u001b[0m\u001b[0;34m)\u001b[0m\u001b[0;34m/\u001b[0m\u001b[0;36m5\u001b[0m\u001b[0;34m)\u001b[0m\u001b[0;34m:\u001b[0m\u001b[0;34m\u001b[0m\u001b[0;34m\u001b[0m\u001b[0m\n\u001b[0;32m---> 21\u001b[0;31m         iso_params = {'locations': [geo.geoms[0].coords[0] for geo in locations['geometry']],\n\u001b[0m\u001b[1;32m     22\u001b[0m                       \u001b[0;34m'profile'\u001b[0m\u001b[0;34m:\u001b[0m \u001b[0mprofile\u001b[0m\u001b[0;34m,\u001b[0m\u001b[0;34m\u001b[0m\u001b[0;34m\u001b[0m\u001b[0m\n\u001b[1;32m     23\u001b[0m                       \u001b[0;34m'range_type'\u001b[0m\u001b[0;34m:\u001b[0m \u001b[0mrange_type\u001b[0m\u001b[0;34m,\u001b[0m\u001b[0;34m\u001b[0m\u001b[0;34m\u001b[0m\u001b[0m\n",
      "\u001b[0;32m<ipython-input-8-4a50d5cd3217>\u001b[0m in \u001b[0;36m<listcomp>\u001b[0;34m(.0)\u001b[0m\n\u001b[1;32m     19\u001b[0m     \u001b[0mprint\u001b[0m\u001b[0;34m(\u001b[0m\u001b[0;34mf'{len(sel)} rows selected'\u001b[0m\u001b[0;34m)\u001b[0m\u001b[0;34m\u001b[0m\u001b[0;34m\u001b[0m\u001b[0m\n\u001b[1;32m     20\u001b[0m     \u001b[0;32mfor\u001b[0m \u001b[0mlocations\u001b[0m \u001b[0;32min\u001b[0m \u001b[0mtqdm\u001b[0m\u001b[0;34m(\u001b[0m\u001b[0mchunks\u001b[0m\u001b[0;34m(\u001b[0m\u001b[0msel\u001b[0m\u001b[0;34m,\u001b[0m \u001b[0;36m5\u001b[0m\u001b[0;34m)\u001b[0m\u001b[0;34m,\u001b[0m \u001b[0mtotal\u001b[0m\u001b[0;34m=\u001b[0m\u001b[0mlen\u001b[0m\u001b[0;34m(\u001b[0m\u001b[0msel\u001b[0m\u001b[0;34m)\u001b[0m\u001b[0;34m/\u001b[0m\u001b[0;36m5\u001b[0m\u001b[0;34m)\u001b[0m\u001b[0;34m:\u001b[0m\u001b[0;34m\u001b[0m\u001b[0;34m\u001b[0m\u001b[0m\n\u001b[0;32m---> 21\u001b[0;31m         iso_params = {'locations': [geo.geoms[0].coords[0] for geo in locations['geometry']],\n\u001b[0m\u001b[1;32m     22\u001b[0m                       \u001b[0;34m'profile'\u001b[0m\u001b[0;34m:\u001b[0m \u001b[0mprofile\u001b[0m\u001b[0;34m,\u001b[0m\u001b[0;34m\u001b[0m\u001b[0;34m\u001b[0m\u001b[0m\n\u001b[1;32m     23\u001b[0m                       \u001b[0;34m'range_type'\u001b[0m\u001b[0;34m:\u001b[0m \u001b[0mrange_type\u001b[0m\u001b[0;34m,\u001b[0m\u001b[0;34m\u001b[0m\u001b[0;34m\u001b[0m\u001b[0m\n",
      "\u001b[0;31mAttributeError\u001b[0m: 'Point' object has no attribute 'geoms'"
     ]
    }
   ],
   "source": [
    "#execute \"get_isochrones\" & save all individual time & driving isochrones are saved here in a JSON\n",
    "iso_dict = get_isochrones(pos, 'Wales_time_isochrones_car_all_test_dec_may22.json')"
   ]
  },
  {
   "cell_type": "markdown",
   "metadata": {},
   "source": [
    "## Process Isochrone Responses"
   ]
  },
  {
   "cell_type": "markdown",
   "metadata": {},
   "source": [
    "We calculate isochrones also for points in the 20km buffer outside Wales administrative area in order to represent accurately peopple's proximity to a post office even if ocassionally it might be in England. However, in order to calculate the access to a post office only  for the Wales population, we have now to \"trim\" the isochrones according to the Wales administrative border. We do this below."
   ]
  },
  {
   "cell_type": "code",
   "execution_count": null,
   "metadata": {},
   "outputs": [],
   "source": [
    "cutter = gpd.read_file('../data/Wales_disolved')"
   ]
  },
  {
   "cell_type": "code",
   "execution_count": null,
   "metadata": {},
   "outputs": [],
   "source": [
    "cutter = cutter.to_crs({'init': 'epsg:4326'})"
   ]
  },
  {
   "cell_type": "code",
   "execution_count": null,
   "metadata": {},
   "outputs": [],
   "source": [
    "cutter.plot()\n",
    "plt.show()"
   ]
  },
  {
   "cell_type": "markdown",
   "metadata": {},
   "source": [
    "## Isochrones"
   ]
  },
  {
   "cell_type": "code",
   "execution_count": null,
   "metadata": {},
   "outputs": [],
   "source": [
    "def calc_pop_in_isochrone(isochrone, area_gpd):\n",
    "    iso_pop = 0\n",
    "    for lsoa in area_gpd.iterrows():\n",
    "        intersect = lsoa[1]['geometry'].intersection(isochrone)\n",
    "        if not intersect.is_empty: \n",
    "            iso_pop += lsoa[1]['Popcount']*intersect.area/lsoa[1]['geometry'].area\n",
    "    return iso_pop"
   ]
  },
  {
   "cell_type": "code",
   "execution_count": null,
   "metadata": {},
   "outputs": [],
   "source": [
    "def save_isochrones(sel_pos, iso_dict, cutter, area, sel_name):\n",
    "    print('Selecting data...')\n",
    "    po_ids = [str(po_id) for po_id in sel_pos['ID']]\n",
    "    print('Extractig isochrones for selected POs...')\n",
    "    isos_1m = [shape(v['iso-1m']['geometry']) for k, v in iso_dict.items() if k in po_ids]\n",
    "    isos_3m = [shape(v['iso-3m']['geometry']) for k, v in iso_dict.items() if k in po_ids]\n",
    "    isos_6m = [shape(v['iso-6m']['geometry']) for k, v in iso_dict.items() if k in po_ids]\n",
    "    print(f'Selected for 1m iso: {len(isos_1m)}')\n",
    "    print(f'Selected for 3m iso: {len(isos_3m)}')\n",
    "    print(f'Selected for 6m iso: {len(isos_6m)}')\n",
    "    print('Calculating unions...', end='')\n",
    "    iso_union_1m = cascaded_union(isos_1m)\n",
    "    print(' 1m ', end='')\n",
    "    iso_union_3m = cascaded_union(isos_3m)\n",
    "    print(' 3m ', end='')\n",
    "    iso_union_6m = cascaded_union(isos_6m)\n",
    "    print(' 6m')\n",
    "    print('Clipping polygons...', end='')\n",
    "    clip_iso_union_1m = iso_union_1m.intersection(cutter)\n",
    "    print(' 1m ', end='')\n",
    "    clip_iso_union_3m = iso_union_3m.intersection(cutter)\n",
    "    print(' 3m ', end='')\n",
    "    clip_iso_union_6m = iso_union_6m.intersection(cutter)\n",
    "    print(' 6m')\n",
    "    print('Save clipped polygons...')\n",
    "    schema = {'geometry': 'MultiPolygon', 'properties': {'id': 'int', 'desc': 'str'},}\n",
    "\n",
    "    # threshold 1\n",
    "    with fiona.open(f'unionisochrones_{sel_name}_t1', 'w', 'ESRI Shapefile', schema) as c:\n",
    "        ## If there are multiple geometries, put the \"for\" loop here\n",
    "        c.write({\n",
    "            'geometry': mapping(clip_iso_union_1m),\n",
    "            'properties': {'id': 1, 'desc': f't1_{sel_name}'},\n",
    "        })\n",
    "        print(' t1 ', end='')\n",
    "\n",
    "    # threshold 2\n",
    "    with fiona.open(f'unionisochrones_{sel_name}_t2', 'w', 'ESRI Shapefile', schema) as c:\n",
    "    \n",
    "        c.write({\n",
    "            'geometry': mapping(clip_iso_union_3m),\n",
    "            'properties': {'id': 2, 'desc': f't2_{sel_name}'},\n",
    "        })\n",
    "        print(' t2 ', end='')\n",
    "\n",
    "    # threshold 3\n",
    "    with fiona.open(f'unionisochrones_{sel_name}_t3', 'w', 'ESRI Shapefile', schema) as c:\n",
    "\n",
    "        c.write({\n",
    "            'geometry': mapping(clip_iso_union_6m),\n",
    "            'properties': {'id': 3, 'desc': f't3_{sel_name}'},\n",
    "        })\n",
    "        print(' t3 ', end='')\n",
    "    print('Calculate population...')\n",
    "    print('t1:', calc_pop_in_isochrone(clip_iso_union_1m, area))\n",
    "    print('t2:', calc_pop_in_isochrone(clip_iso_union_3m, area))\n",
    "    print('t3:', calc_pop_in_isochrone(clip_iso_union_6m, area))"
   ]
  },
  {
   "cell_type": "markdown",
   "metadata": {},
   "source": [
    "## Foot isochrones"
   ]
  },
  {
   "cell_type": "code",
   "execution_count": null,
   "metadata": {},
   "outputs": [],
   "source": [
    "with open('Wales_time_isochrones_foot_all.json', 'r') as f:\n",
    "    read_iso_dict = json.load(f)\n",
    "\n",
    "len(read_iso_dict)\n",
    "\n",
    "read_iso_dict['9526'].keys()\n",
    "\n",
    "plt.hist(pos['Capacity'], bins=20)\n",
    "plt.show()"
   ]
  },
  {
   "cell_type": "code",
   "execution_count": null,
   "metadata": {},
   "outputs": [],
   "source": [
    "selected_pos = pos\n",
    "save_isochrones(selected_pos, read_iso_dict, cutter.geometry[0], area, 'time_foot_all_20200902')"
   ]
  },
  {
   "cell_type": "markdown",
   "metadata": {},
   "source": [
    "#distance #foot #population #all points 1m: 1834111.3762434889\n",
    "3m: 2696254.3928601057\n",
    "6m: 3052516.9274123367"
   ]
  },
  {
   "cell_type": "markdown",
   "metadata": {},
   "source": [
    "#distance  #car #population #all points 1m: 1655394.2489389551\n",
    "3m: 2548059.3218654613\n",
    "6m: 2975395.07296629"
   ]
  },
  {
   "cell_type": "markdown",
   "metadata": {},
   "source": [
    "#time #car #population #all points\n",
    "1m: 2462718.3265495286\n",
    "3m: 2860032.3855188238\n",
    "6m: 3026030.1623279317"
   ]
  },
  {
   "cell_type": "markdown",
   "metadata": {},
   "source": [
    "#time #foot #population\n",
    "1m: 332538.3877926924\n",
    "3m: 993834.5043317567\n",
    "6m: 1809514.6763292155"
   ]
  },
  {
   "cell_type": "code",
   "execution_count": null,
   "metadata": {},
   "outputs": [],
   "source": [
    "selected_pos = pos[pos['Capacity'] <= 0.75]\n",
    "save_isochrones(selected_pos, read_iso_dict, cutter.geometry[0], area, 'time_foot_le075_20200902')"
   ]
  },
  {
   "cell_type": "markdown",
   "metadata": {},
   "source": [
    "#distance #foot #population capacity <0.75 1m: 161511.78725856345\n",
    "3m: 887967.2199437746\n",
    "6m: 2253586.4469052646"
   ]
  },
  {
   "cell_type": "markdown",
   "metadata": {},
   "source": [
    "#distance #car #population capacity <0.75 1m: 126779.94352610075\n",
    "3m: 784431.8668233516\n",
    "6m: 2121499.980636307"
   ]
  },
  {
   "cell_type": "markdown",
   "metadata": {},
   "source": [
    "#time #car #population capcaity <0.75 1m: 488935.52837322565\n",
    "3m: 1529147.5583683248\n",
    "6m: 2823674.1243742583"
   ]
  },
  {
   "cell_type": "markdown",
   "metadata": {},
   "source": [
    "#time #foot #population capcaity <0.75\n",
    "1m: 13658.711150254983\n",
    "3m: 45700.529385591995\n",
    "6m: 151287.4951599431"
   ]
  },
  {
   "cell_type": "code",
   "execution_count": null,
   "metadata": {
    "scrolled": true
   },
   "outputs": [],
   "source": [
    "selected_pos = pos[pos.eval(\"Capacity > 0.75\")]\n",
    "save_isochrones(selected_pos, read_iso_dict, cutter.geometry[0], area, 'time_foot_gt075_20200902')"
   ]
  },
  {
   "cell_type": "markdown",
   "metadata": {},
   "source": [
    "## Foot distance"
   ]
  },
  {
   "cell_type": "code",
   "execution_count": null,
   "metadata": {},
   "outputs": [],
   "source": [
    "with open('Wales_distance_isochrones_foot_all.json', 'r') as f:\n",
    "    read_iso_dict = json.load(f)\n",
    "\n",
    "len(read_iso_dict)\n",
    "\n",
    "read_iso_dict['9526'].keys()\n",
    "\n",
    "plt.hist(pos['Capacity'], bins=20)\n",
    "plt.show()"
   ]
  },
  {
   "cell_type": "code",
   "execution_count": null,
   "metadata": {},
   "outputs": [],
   "source": [
    "selected_pos = pos\n",
    "save_isochrones(selected_pos, read_iso_dict, cutter.geometry[0], area, 'distance_foot_all_20200902')"
   ]
  },
  {
   "cell_type": "code",
   "execution_count": null,
   "metadata": {},
   "outputs": [],
   "source": [
    "selected_pos = pos[pos['Capacity'] <= 0.75]\n",
    "save_isochrones(selected_pos, read_iso_dict, cutter.geometry[0], area, 'distance_foot_le075_20200902')"
   ]
  },
  {
   "cell_type": "code",
   "execution_count": null,
   "metadata": {},
   "outputs": [],
   "source": [
    "selected_pos = pos[pos.eval(\"Capacity > 0.75\")]\n",
    "save_isochrones(selected_pos, read_iso_dict, cutter.geometry[0], area, 'distance_foot_gt075_20200902')"
   ]
  },
  {
   "cell_type": "markdown",
   "metadata": {},
   "source": [
    "## Car Time"
   ]
  },
  {
   "cell_type": "code",
   "execution_count": null,
   "metadata": {},
   "outputs": [],
   "source": [
    "with open('Wales_time_isochrones_car_all.json', 'r') as f:\n",
    "    read_iso_dict = json.load(f)\n",
    "\n",
    "len(read_iso_dict)\n",
    "\n",
    "read_iso_dict['9526'].keys()\n",
    "\n",
    "plt.hist(pos['Capacity'], bins=20)\n",
    "plt.show()"
   ]
  },
  {
   "cell_type": "code",
   "execution_count": null,
   "metadata": {},
   "outputs": [],
   "source": [
    "selected_pos = pos\n",
    "save_isochrones(selected_pos, read_iso_dict, cutter.geometry[0], area, 'time_car_all_20200902')"
   ]
  },
  {
   "cell_type": "code",
   "execution_count": null,
   "metadata": {},
   "outputs": [],
   "source": [
    "selected_pos = pos[pos['Capacity'] <= 0.75]\n",
    "save_isochrones(selected_pos, read_iso_dict, cutter.geometry[0], area, 'time_car_le075_20200902')"
   ]
  },
  {
   "cell_type": "code",
   "execution_count": null,
   "metadata": {},
   "outputs": [],
   "source": [
    "selected_pos = pos[pos.eval(\"Capacity > 0.75\")]\n",
    "save_isochrones(selected_pos, read_iso_dict, cutter.geometry[0], area, 'time_car_gt075_20200902')"
   ]
  },
  {
   "cell_type": "markdown",
   "metadata": {},
   "source": [
    "## Car Distance"
   ]
  },
  {
   "cell_type": "code",
   "execution_count": null,
   "metadata": {},
   "outputs": [],
   "source": [
    "with open('Wales_distance_isochrones_car_all.json', 'r') as f:\n",
    "    read_iso_dict = json.load(f)\n",
    "\n",
    "len(read_iso_dict)\n",
    "\n",
    "read_iso_dict['9526'].keys()\n",
    "\n",
    "plt.hist(pos['Capacity'], bins=20)\n",
    "plt.show()"
   ]
  },
  {
   "cell_type": "code",
   "execution_count": null,
   "metadata": {},
   "outputs": [],
   "source": [
    "selected_pos = pos\n",
    "save_isochrones(selected_pos, read_iso_dict, cutter.geometry[0], area, 'distance_car_all_20200902')"
   ]
  },
  {
   "cell_type": "code",
   "execution_count": null,
   "metadata": {},
   "outputs": [],
   "source": [
    "selected_pos = pos[pos['Capacity'] <= 0.75]\n",
    "save_isochrones(selected_pos, read_iso_dict, cutter.geometry[0], area, 'distance_car_le075_20200902')"
   ]
  },
  {
   "cell_type": "code",
   "execution_count": null,
   "metadata": {},
   "outputs": [],
   "source": [
    "selected_pos = pos[pos.eval(\"Capacity > 0.75\")]\n",
    "save_isochrones(selected_pos, read_iso_dict, cutter.geometry[0], area, 'distance_car_gt075_20200902')"
   ]
  },
  {
   "cell_type": "markdown",
   "metadata": {},
   "source": [
    "### End"
   ]
  },
  {
   "cell_type": "code",
   "execution_count": null,
   "metadata": {},
   "outputs": [],
   "source": [
    "selected_pos = pos[pos['Capacity'] > 1.25]\n",
    "save_isochrones(selected_pos, read_iso_dict, cutter.geometry[0], area, 'distance_foot_more125_pop')"
   ]
  },
  {
   "cell_type": "markdown",
   "metadata": {},
   "source": [
    "#distance #foot #population capacity >1.25 1m: 1196400.1917957608\n",
    "3m: 2320560.8703956916\n",
    "6m: 2903603.6611012723"
   ]
  },
  {
   "cell_type": "markdown",
   "metadata": {},
   "source": [
    "#distance #car #population capacity >1.25 1m: 1048198.9320013712\n",
    "3m: 2185766.780590868\n",
    "6m: 2815950.4714616993"
   ]
  },
  {
   "cell_type": "markdown",
   "metadata": {},
   "source": [
    "#time #car #population capacity >1.25 1m: 1946908.9840998615\n",
    "3m: 2629013.00317628\n",
    "6m: 2992139.6564869997"
   ]
  },
  {
   "cell_type": "markdown",
   "metadata": {},
   "source": [
    "#time # foot #population\n",
    "1m: 162429.62690606393\n",
    "3m: 521922.5303261459\n",
    "6m: 1178162.8030682425"
   ]
  },
  {
   "cell_type": "code",
   "execution_count": null,
   "metadata": {
    "scrolled": true
   },
   "outputs": [],
   "source": [
    "selected_pos = pos[pos.eval(\"Capacity >= 0.75 & (Capacity <= 1.25)\")]\n",
    "save_isochrones(selected_pos, read_iso_dict, cutter.geometry[0], area, 'distance_foot_more075_less125_pop')"
   ]
  },
  {
   "cell_type": "markdown",
   "metadata": {},
   "source": [
    "#distance #foot #population Capacity >= 0.75 & (Capacity <= 1.251m: 1242574.5930554967\n",
    "3m: 2343632.7947459193\n",
    "6m: 2867983.111124717"
   ]
  },
  {
   "cell_type": "markdown",
   "metadata": {},
   "source": [
    "#distance #car #population Capacity >= 0.75 & (Capacity <= 1.25\n",
    "1m: 1048046.2664724686\n",
    "3m: 2200247.49172126\n",
    "6m: 2785322.061400475"
   ]
  },
  {
   "cell_type": "markdown",
   "metadata": {},
   "source": [
    "#time #car #population Capacity >= 0.75 & (Capacity <= 1.25 1m: 1952136.3030312797\n",
    "3m: 2608445.440415068\n",
    "6m: 2974161.986355843"
   ]
  },
  {
   "cell_type": "markdown",
   "metadata": {},
   "source": [
    "#time #foot #population\n",
    "1m: 158946.40374611082\n",
    "3m: 513315.9559725913\n",
    "6m: 1216681.4056649595"
   ]
  },
  {
   "cell_type": "code",
   "execution_count": null,
   "metadata": {},
   "outputs": [],
   "source": [
    "selected_pos = pos[pos.eval(\"Capacity > 0.5\")]\n",
    "save_isochrones(selected_pos, read_iso_dict, cutter.geometry[0], area, 'time_foot_more_05_pop')"
   ]
  },
  {
   "cell_type": "markdown",
   "metadata": {},
   "source": [
    "#time #foot #population #capacity > 0.5 1m: 320188.2003428298\n",
    "3m: 962892.6536046048\n",
    "6m: 1758692.138481088"
   ]
  },
  {
   "cell_type": "markdown",
   "metadata": {},
   "source": [
    "#time #car #population #capacity > 0.5 1m: 2380834.686981266\n",
    "3m: 2808104.1988565507\n",
    "6m: 3018292.4919935074"
   ]
  },
  {
   "cell_type": "markdown",
   "metadata": {},
   "source": [
    "#distance #car #population #capacity > 0.5 1m: 1600614.592464248\n",
    "3m: 2474835.135703648\n",
    "6m: 2944076.482556418"
   ]
  },
  {
   "cell_type": "markdown",
   "metadata": {},
   "source": [
    "#distance #foot #population #capacity > 0.5 1m: 1777765.6536669862\n",
    "3m: 2612316.6995851076\n",
    "6m: 3022578.5720008737"
   ]
  },
  {
   "cell_type": "markdown",
   "metadata": {},
   "source": [
    "#time #foot #population #capacity > 0.75 1m: 319275.4954136181\n",
    "3m: 961191.7893956628\n",
    "6m: 1755328.6549234632"
   ]
  },
  {
   "cell_type": "markdown",
   "metadata": {},
   "source": [
    "#time #car #population #capacity > 0.75 1m: 2372196.1240560506\n",
    "3m: 2801337.1425495897\n",
    "6m: 3018015.4185524266"
   ]
  },
  {
   "cell_type": "markdown",
   "metadata": {},
   "source": [
    "#distance #car #population #capacity > 0.75 1m: 1596450.2149904328\n",
    "3m: 2466403.9931703885\n",
    "6m: 2939527.9850479085"
   ]
  },
  {
   "cell_type": "markdown",
   "metadata": {},
   "source": [
    "#distance #foot #population #capacity > 0.75\n",
    "1m: 1773324.282094911\n",
    "3m: 2603314.070032964\n",
    "6m: 3017267.672621937"
   ]
  },
  {
   "cell_type": "code",
   "execution_count": null,
   "metadata": {},
   "outputs": [],
   "source": [
    "def plot_isochrones(sel_pos, iso_dict, cutter, area, title):\n",
    "    print('Selecting data...')\n",
    "    po_ids = [str(po_id) for po_id in sel_pos['ID']]\n",
    "    print('Extractig isochrones for selected POs...')\n",
    "    isos_1m = [shape(v['iso-1m']['geometry']) for k, v in iso_dict.items() if k in po_ids]\n",
    "    isos_3m = [shape(v['iso-3m']['geometry']) for k, v in iso_dict.items() if k in po_ids]\n",
    "    isos_6m = [shape(v['iso-6m']['geometry']) for k, v in iso_dict.items() if k in po_ids]\n",
    "    print(f'Selected for 1m iso: {len(isos_1m)}')\n",
    "    print(f'Selected for 3m iso: {len(isos_3m)}')\n",
    "    print(f'Selected for 6m iso: {len(isos_6m)}')\n",
    "    print('Calculating unions...', end='')\n",
    "    iso_union_1m = cascaded_union(isos_1m)\n",
    "    print(' 1m ', end='')\n",
    "    iso_union_3m = cascaded_union(isos_3m)\n",
    "    print(' 3m ', end='')\n",
    "    iso_union_6m = cascaded_union(isos_6m)\n",
    "    print(' 6m')\n",
    "    print('Clipping popygons...')\n",
    "    clip_iso_union_1m = iso_union_1m.intersection(cutter)\n",
    "    print(' 1m ', end='')\n",
    "    clip_iso_union_3m = iso_union_3m.intersection(cutter)\n",
    "    print(' 3m ', end='')\n",
    "    clip_iso_union_6m = iso_union_6m.intersection(cutter)\n",
    "    print(' 6m')\n",
    "    print('Plotting...')\n",
    "    f, ax = plt.subplots(1, figsize=(12, 12))\n",
    "    # Extract limits for UK map\n",
    "    # w, s, e, n = area.total_bounds\n",
    "    # Center figure on the limits of Wiltsh\n",
    "    # ax.set_xlim((w, e))\n",
    "    # ax.set_ylim((s, n))\n",
    "    area.plot(facecolor='none', edgecolor='gray', linewidth=0.1, ax=ax)\n",
    "    ax.set_aspect('equal', 'datalim')\n",
    "    ax.add_patch(PolygonPatch(clip_iso_union_6m, fc='gray', ec='gray', alpha=0.25))\n",
    "    ax.add_patch(PolygonPatch(clip_iso_union_3m, fc='gray', ec='gray', alpha=0.5))\n",
    "    ax.add_patch(PolygonPatch(clip_iso_union_1m, fc='gray', ec='gray', alpha=0.75))\n",
    "    # Add figure title\n",
    "    f.suptitle(title)\n",
    "    plt.show()    "
   ]
  },
  {
   "cell_type": "markdown",
   "metadata": {},
   "source": [
    "### All POs "
   ]
  },
  {
   "cell_type": "code",
   "execution_count": null,
   "metadata": {},
   "outputs": [],
   "source": [
    "selected_pos = pos"
   ]
  },
  {
   "cell_type": "code",
   "execution_count": null,
   "metadata": {},
   "outputs": [],
   "source": [
    "plot_isochrones(selected_pos, read_iso_dict, cutter.geometry[0], area,\n",
    "                title='Wales\\nAccess Isochrones Foot 1m, 3m 6m\\nAll Post Offices')"
   ]
  },
  {
   "cell_type": "markdown",
   "metadata": {},
   "source": [
    "## Capacity >= 23h / week"
   ]
  },
  {
   "cell_type": "code",
   "execution_count": null,
   "metadata": {},
   "outputs": [],
   "source": [
    "selected_pos = pos[pos['Capacity'] >= 0.5]"
   ]
  },
  {
   "cell_type": "code",
   "execution_count": null,
   "metadata": {},
   "outputs": [],
   "source": [
    "plot_isochrones(selected_pos, read_iso_dict, cutter.geometry[0], area,\n",
    "                title='Wales\\nAccess Isochrones 1m, 3m 6m\\nPost Offices with office hours >= 23h / week')"
   ]
  },
  {
   "cell_type": "markdown",
   "metadata": {},
   "source": [
    "## Capacity > 46 h / week"
   ]
  },
  {
   "cell_type": "code",
   "execution_count": null,
   "metadata": {},
   "outputs": [],
   "source": [
    "selected_pos = pos[pos['Capacity'] > 1.0]"
   ]
  },
  {
   "cell_type": "code",
   "execution_count": null,
   "metadata": {},
   "outputs": [],
   "source": [
    "plot_isochrones(selected_pos, read_iso_dict, cutter.geometry[0], area,\n",
    "                title='Wales\\nAccess Isochrones 1m, 3m 6m\\nPost Offices with office hours > 46h / week')"
   ]
  },
  {
   "cell_type": "code",
   "execution_count": null,
   "metadata": {},
   "outputs": [],
   "source": [
    "# <0.75"
   ]
  },
  {
   "cell_type": "code",
   "execution_count": null,
   "metadata": {},
   "outputs": [],
   "source": [
    "selected_pos = pos[pos['Capacity'] < 0.75]"
   ]
  },
  {
   "cell_type": "code",
   "execution_count": null,
   "metadata": {},
   "outputs": [],
   "source": [
    "plot_isochrones(selected_pos, read_iso_dict, cutter.geometry[0], area,\n",
    "                title='Wales\\nAccess Time Foot Isochrones 5, 10, 20 mins \\nPost Offices with capacity <0.75 ')"
   ]
  },
  {
   "cell_type": "code",
   "execution_count": null,
   "metadata": {},
   "outputs": [],
   "source": [
    "#>1.25"
   ]
  },
  {
   "cell_type": "code",
   "execution_count": null,
   "metadata": {},
   "outputs": [],
   "source": [
    "selected_pos = pos[pos['Capacity'] > 1.25]"
   ]
  },
  {
   "cell_type": "code",
   "execution_count": null,
   "metadata": {},
   "outputs": [],
   "source": [
    "plot_isochrones(selected_pos, read_iso_dict, cutter.geometry[0], area,\n",
    "                title='Wales\\nAccess Time Foot Isochrones 5, 10, 20mins\\nPost Offices with capacity > 1.25')"
   ]
  },
  {
   "cell_type": "code",
   "execution_count": null,
   "metadata": {},
   "outputs": [],
   "source": [
    "# btw 0.75 and 1.25"
   ]
  },
  {
   "cell_type": "code",
   "execution_count": null,
   "metadata": {},
   "outputs": [],
   "source": [
    "selected_pos = pos[pos.eval(\"Capacity >= 0.75 & (Capacity <= 1.25)\")]"
   ]
  },
  {
   "cell_type": "code",
   "execution_count": null,
   "metadata": {},
   "outputs": [],
   "source": [
    "plot_isochrones(selected_pos, read_iso_dict, cutter.geometry[0], area,\n",
    "                title='Wales\\nAccess Time Foot Isochrones 5, 10, 15mins\\nPost Offices with capacity <=0.75 and >= 1.25')"
   ]
  },
  {
   "cell_type": "markdown",
   "metadata": {},
   "source": [
    "## Population based on Output Area"
   ]
  },
  {
   "cell_type": "code",
   "execution_count": null,
   "metadata": {},
   "outputs": [],
   "source": [
    "# all OA in UK\n",
    "OA_UK_path = ('../data/infuse_oa_lyr_2011_clipped')\n",
    "OA_UK = gpd.read_file(OA_UK_path)"
   ]
  },
  {
   "cell_type": "code",
   "execution_count": null,
   "metadata": {},
   "outputs": [],
   "source": [
    "OA_Wales = OA_UK[OA_UK['geo_code'].str.startswith('W')]"
   ]
  },
  {
   "cell_type": "code",
   "execution_count": null,
   "metadata": {},
   "outputs": [],
   "source": [
    "OA_Wales"
   ]
  },
  {
   "cell_type": "code",
   "execution_count": null,
   "metadata": {},
   "outputs": [],
   "source": [
    "OA_Wales_geo_path = '../data/OA_Wales_geo'\n",
    "OA_Wales.to_file(OA_Wales_geo_path)"
   ]
  },
  {
   "cell_type": "code",
   "execution_count": null,
   "metadata": {},
   "outputs": [],
   "source": [
    "OA_Wales_pop_path = '../data/COA_Wales_population_2019.csv'\n",
    "OA_Wales_pop = pd.read_csv(OA_Wales_pop_path)"
   ]
  },
  {
   "cell_type": "code",
   "execution_count": null,
   "metadata": {},
   "outputs": [],
   "source": [
    "OA_Wales_pop"
   ]
  },
  {
   "cell_type": "code",
   "execution_count": null,
   "metadata": {},
   "outputs": [],
   "source": [
    "OA_Wales = OA_Wales.merge(OA_Wales_pop, left_on='geo_code', right_on='OA11CD')"
   ]
  },
  {
   "cell_type": "code",
   "execution_count": null,
   "metadata": {},
   "outputs": [],
   "source": [
    "OA_Wales.to_crs('epsg:4326', inplace=True)"
   ]
  },
  {
   "cell_type": "code",
   "execution_count": null,
   "metadata": {},
   "outputs": [],
   "source": [
    "OA_Wales.to_file(OA_Wales_geo_path)"
   ]
  },
  {
   "cell_type": "code",
   "execution_count": null,
   "metadata": {},
   "outputs": [],
   "source": [
    "range_types = ['distance', 'time']\n",
    "profiles = ['car', 'foot']\n",
    "capacities = ['all', 'gt075', 'le075']\n",
    "thresholds = ['t1', 't2', 't3']\n",
    "date_stamp = '20200902'"
   ]
  },
  {
   "cell_type": "code",
   "execution_count": null,
   "metadata": {},
   "outputs": [],
   "source": [
    "calculations = pd.DataFrame()\n",
    "\n",
    "for range_type in range_types:\n",
    "    for profile in profiles:\n",
    "        for capacity in capacities:\n",
    "            for threshold in thresholds:\n",
    "                iso_file = f'unionisochrones_{range_type}_{profile}_{capacity}_{date_stamp}_{threshold}'\n",
    "                isochrone = gpd.read_file(iso_file)\n",
    "#                 if isochrone.crs is None:\n",
    "#                     isochrone.crs = {'init': 'epsg:4326', 'no_defs': True}\n",
    "                iso_shape = isochrone.iloc[0].geometry\n",
    "                population = 0\n",
    "                for index, oa in tqdm(OA_Wales.iterrows(), total=len(OA_Wales)):\n",
    "                    intersect = oa.geometry.intersection(iso_shape)\n",
    "                    population += float(oa.Population.replace(',', '')) * intersect.area / oa.geometry.area\n",
    "                calculations.append({'type': range_type,\n",
    "                                     'profile': profile,\n",
    "                                     'capacity': capacity,\n",
    "                                     'threshold': threshold,\n",
    "                                     'pop': population}, ignore_index=True)\n",
    "                print(f'added: {range_type}-{profile}-{capacity}-{threshold} = {population}')"
   ]
  },
  {
   "cell_type": "code",
   "execution_count": null,
   "metadata": {},
   "outputs": [],
   "source": []
  }
 ],
 "metadata": {
  "kernelspec": {
   "display_name": "GIS2020",
   "language": "python",
   "name": "gis2020"
  },
  "language_info": {
   "codemirror_mode": {
    "name": "ipython",
    "version": 3
   },
   "file_extension": ".py",
   "mimetype": "text/x-python",
   "name": "python",
   "nbconvert_exporter": "python",
   "pygments_lexer": "ipython3",
   "version": "3.7.10"
  }
 },
 "nbformat": 4,
 "nbformat_minor": 2
}
