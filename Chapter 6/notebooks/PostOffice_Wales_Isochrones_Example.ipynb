{
 "cells": [
  {
   "cell_type": "markdown",
   "metadata": {},
   "source": [
    "The purpose of this notebook is to calculate distance and time isochrones for a set of points. The points here are the post offices locations for an area which includes Wales and a 20km buffer bordering Wales. In a July 2019 extraction there were 1,202 for this area, out of which 846 only were strictly within the Wales borders.\n",
    "\n",
    "It is in its current form provided to the reviewers of the paper **\"Geographic and Temporal Access to Basic Banking Services Offered through Post Offices in Wales\"**. \n",
    "\n",
    "This script refers to Chapter 5 of the PhD Thesis, Andra Sonea.\n",
    "\n",
    "In orde rto run this code you need to apply for an API key for https://openrouteservice.org/plans/"
   ]
  },
  {
   "cell_type": "code",
   "execution_count": null,
   "metadata": {},
   "outputs": [],
   "source": [
    "#import libraries\n",
    "import geopandas as gpd\n",
    "import pandas as pd\n",
    "import fiona\n",
    "import matplotlib.pyplot  as plt\n",
    "from shapely.geometry import shape, Polygon, mapping\n",
    "from shapely.ops import cascaded_union\n",
    "import json\n",
    "from tqdm import tqdm\n",
    "import time\n",
    "#THE main library for this script is the one from OSR for calculating isochrones\n",
    "from openrouteservice import client\n",
    "from descartes import PolygonPatch"
   ]
  },
  {
   "cell_type": "code",
   "execution_count": null,
   "metadata": {},
   "outputs": [],
   "source": [
    "# points (post office locations). \n",
    "# This is a shapefile of the post offices extracted from the PO website and clipped with a \n",
    "# Wales border with a 20km buffer\n",
    "po_filename = '../data/PO_2020_Wales20km/' #espg: UK 4326..\n",
    "pos = gpd.read_file(po_filename)"
   ]
  },
  {
   "cell_type": "code",
   "execution_count": null,
   "metadata": {},
   "outputs": [],
   "source": [
    "# crs \n",
    "pos.crs"
   ]
  },
  {
   "cell_type": "code",
   "execution_count": null,
   "metadata": {},
   "outputs": [],
   "source": [
    "pos.info()"
   ]
  },
  {
   "cell_type": "code",
   "execution_count": null,
   "metadata": {},
   "outputs": [],
   "source": [
    "\n",
    "if not 'iso-1m' in pos:\n",
    "    pos['iso-1m'] = ''\n",
    "if not 'iso-3m' in pos:\n",
    "    pos['iso-3m'] = ''\n",
    "if not 'iso-6m' in pos:\n",
    "    pos['iso-6m'] = ''"
   ]
  },
  {
   "cell_type": "code",
   "execution_count": null,
   "metadata": {},
   "outputs": [],
   "source": [
    "#API key for access to ORS to calculate the isochrones\n",
    "api_key ='5b3ce3597851110001cf62487cfd2206e8ad4ced91cf682b2b778213'\n",
    "#api_key = '....here is your API key....'\n",
    "clnt = client.Client(key=api_key)"
   ]
  },
  {
   "cell_type": "code",
   "execution_count": null,
   "metadata": {},
   "outputs": [],
   "source": [
    "# Here I split the list of points (post offices) in chunks of 5 becasue the ORS API accepts 5 points/request\n",
    "def chunks(lst, n):\n",
    "    \"\"\"Yield successive n-sized chunks from lst.\"\"\"\n",
    "    for i in range(0, len(lst), n):\n",
    "        yield lst[i:i + n]"
   ]
  },
  {
   "cell_type": "code",
   "execution_count": null,
   "metadata": {},
   "outputs": [],
   "source": [
    "#function \"get_isochrones\" calculates isochrones for the points given. \n",
    "#The default selection is for \"driving-car\" (profile) and \"time\"(range_type).\n",
    "def get_isochrones(pointsdf,\n",
    "                   iso_dict_file,\n",
    "                   profile='foot-walking', \n",
    "                   range_type='time', \n",
    "                   range_list=[300, 600, 1200 ], \n",
    "                   attributes=['total_pop', 'area']):\n",
    "    try:\n",
    "        with open(iso_dict_file, 'r') as f:\n",
    "            iso_dict = json.load(f)\n",
    "    except:\n",
    "        iso_dict = {}\n",
    "    processed = iso_dict.keys()\n",
    "    #features = []\n",
    "    # filter dataframe for items that have already been processed\n",
    "    num_requests = 0\n",
    "    sel = pointsdf[~pointsdf['code'].isin(processed)]\n",
    "    print(f'{len(sel)} rows selected')\n",
    "    for locations in tqdm(chunks(sel, 5), total=len(sel)/5):\n",
    "        iso_params = {'locations': [geo.geoms[0].coords[0] for geo in locations['geometry']],\n",
    "                      'profile': profile,\n",
    "                      'range_type': range_type,\n",
    "                      'range': range_list,\n",
    "                      'attributes': attributes}\n",
    "        request = clnt.isochrones(**iso_params)\n",
    "        num_requests += 1\n",
    "        time.sleep(3)\n",
    "        #features.extend(request['features'])\n",
    "        # save results in dataframe\n",
    "        for index, loc in enumerate(locations.index):\n",
    "            po_id = pointsdf.at[loc, 'ID']\n",
    "            iso_1m = request['features'][index*3]\n",
    "            iso_3m = request['features'][index*3+1]\n",
    "            iso_6m = request['features'][index*3+2]\n",
    "            iso_dict[str(po_id)] = {'iso-1m': iso_1m, 'iso-3m': iso_3m, 'iso-6m': iso_6m}\n",
    "        with open(iso_dict_file, 'w') as f:\n",
    "            json.dump(iso_dict, f)\n",
    "    print(f'Executed {num_requests} requests')\n",
    "    return iso_dict"
   ]
  },
  {
   "cell_type": "code",
   "execution_count": null,
   "metadata": {},
   "outputs": [],
   "source": [
    "#execute \"get_isochrones\" & save all individual time & driving isochrones are saved here in a JSON\n",
    "# I choose the naming of the file so it accounts for:\n",
    "#    - Region (Wales), \n",
    "#    - type of isochrone (distance/time), \n",
    "#    - mode(car/foot), \n",
    "#    - selection of points (all/reduced capacity)\n",
    "#    - period\n",
    "iso_dict = get_isochrones(pos, 'Wales_time_isochrones_car_all_Dec22.json')"
   ]
  },
  {
   "cell_type": "markdown",
   "metadata": {},
   "source": [
    "## Process Isochrone Responses"
   ]
  },
  {
   "cell_type": "markdown",
   "metadata": {},
   "source": [
    "We calculate isochrones also for points in the 20km buffer outside Wales administrative area in order to represent accurately peopple's proximity to a post office even if ocassionally it might be in England. However, in order to calculate the access to a post office only  for the Wales population, we have now to \"trim\" the isochrones according to the Wales administrative border. We do this below."
   ]
  },
  {
   "cell_type": "code",
   "execution_count": null,
   "metadata": {},
   "outputs": [],
   "source": [
    "cutter = gpd.read_file('../data/Wales_disolved')"
   ]
  },
  {
   "cell_type": "code",
   "execution_count": null,
   "metadata": {},
   "outputs": [],
   "source": [
    "cutter = cutter.to_crs({'init': 'epsg:4326'})"
   ]
  },
  {
   "cell_type": "code",
   "execution_count": null,
   "metadata": {},
   "outputs": [],
   "source": [
    "cutter.plot()\n",
    "plt.show()"
   ]
  },
  {
   "cell_type": "markdown",
   "metadata": {},
   "source": [
    "## Isochrones"
   ]
  },
  {
   "cell_type": "code",
   "execution_count": null,
   "metadata": {},
   "outputs": [],
   "source": [
    "def calc_pop_in_isochrone(isochrone, area_gpd):\n",
    "    iso_pop = 0\n",
    "    for lsoa in area_gpd.iterrows():\n",
    "        intersect = lsoa[1]['geometry'].intersection(isochrone)\n",
    "        if not intersect.is_empty: \n",
    "            iso_pop += lsoa[1]['Popcount']*intersect.area/lsoa[1]['geometry'].area\n",
    "    return iso_pop"
   ]
  },
  {
   "cell_type": "code",
   "execution_count": null,
   "metadata": {},
   "outputs": [],
   "source": [
    "def save_isochrones(sel_pos, iso_dict, cutter, area, sel_name):\n",
    "    print('Selecting data...')\n",
    "    po_ids = [str(po_id) for po_id in sel_pos['ID']]\n",
    "    print('Extractig isochrones for selected POs...')\n",
    "    isos_1m = [shape(v['iso-1m']['geometry']) for k, v in iso_dict.items() if k in po_ids]\n",
    "    isos_3m = [shape(v['iso-3m']['geometry']) for k, v in iso_dict.items() if k in po_ids]\n",
    "    isos_6m = [shape(v['iso-6m']['geometry']) for k, v in iso_dict.items() if k in po_ids]\n",
    "    print(f'Selected for 1m iso: {len(isos_1m)}')\n",
    "    print(f'Selected for 3m iso: {len(isos_3m)}')\n",
    "    print(f'Selected for 6m iso: {len(isos_6m)}')\n",
    "    print('Calculating unions...', end='')\n",
    "    iso_union_1m = cascaded_union(isos_1m)\n",
    "    print(' 1m ', end='')\n",
    "    iso_union_3m = cascaded_union(isos_3m)\n",
    "    print(' 3m ', end='')\n",
    "    iso_union_6m = cascaded_union(isos_6m)\n",
    "    print(' 6m')\n",
    "    print('Clipping polygons...', end='')\n",
    "    clip_iso_union_1m = iso_union_1m.intersection(cutter)\n",
    "    print(' 1m ', end='')\n",
    "    clip_iso_union_3m = iso_union_3m.intersection(cutter)\n",
    "    print(' 3m ', end='')\n",
    "    clip_iso_union_6m = iso_union_6m.intersection(cutter)\n",
    "    print(' 6m')\n",
    "    print('Save clipped polygons...')\n",
    "    schema = {'geometry': 'MultiPolygon', 'properties': {'id': 'int', 'desc': 'str'},}\n",
    "\n",
    "    # threshold 1\n",
    "    with fiona.open(f'unionisochrones_{sel_name}_t1', 'w', 'ESRI Shapefile', schema) as c:\n",
    "        ## If there are multiple geometries, put the \"for\" loop here\n",
    "        c.write({\n",
    "            'geometry': mapping(clip_iso_union_1m),\n",
    "            'properties': {'id': 1, 'desc': f't1_{sel_name}'},\n",
    "        })\n",
    "        print(' t1 ', end='')\n",
    "\n",
    "    # threshold 2\n",
    "    with fiona.open(f'unionisochrones_{sel_name}_t2', 'w', 'ESRI Shapefile', schema) as c:\n",
    "    \n",
    "        c.write({\n",
    "            'geometry': mapping(clip_iso_union_3m),\n",
    "            'properties': {'id': 2, 'desc': f't2_{sel_name}'},\n",
    "        })\n",
    "        print(' t2 ', end='')\n",
    "\n",
    "    # threshold 3\n",
    "    with fiona.open(f'unionisochrones_{sel_name}_t3', 'w', 'ESRI Shapefile', schema) as c:\n",
    "\n",
    "        c.write({\n",
    "            'geometry': mapping(clip_iso_union_6m),\n",
    "            'properties': {'id': 3, 'desc': f't3_{sel_name}'},\n",
    "        })\n",
    "        print(' t3 ', end='')\n",
    "    print('Calculate population...')\n",
    "    print('t1:', calc_pop_in_isochrone(clip_iso_union_1m, area))\n",
    "    print('t2:', calc_pop_in_isochrone(clip_iso_union_3m, area))\n",
    "    print('t3:', calc_pop_in_isochrone(clip_iso_union_6m, area))"
   ]
  },
  {
   "cell_type": "markdown",
   "metadata": {},
   "source": [
    "## Foot isochrones"
   ]
  },
  {
   "cell_type": "code",
   "execution_count": null,
   "metadata": {},
   "outputs": [],
   "source": [
    "#plot isochrones for foot isochrones and histo by capacity\n",
    "\n",
    "with open('Wales_time_isochrones_foot_all.json', 'r') as f:\n",
    "    read_iso_dict = json.load(f)\n",
    "\n",
    "len(read_iso_dict)\n",
    "\n",
    "read_iso_dict['9526'].keys()\n",
    "\n",
    "plt.hist(pos['Capacity'], bins=20)\n",
    "plt.show()"
   ]
  },
  {
   "cell_type": "code",
   "execution_count": null,
   "metadata": {},
   "outputs": [],
   "source": [
    "# save time isochrones for walking/foot, all points\n",
    "selected_pos = pos\n",
    "save_isochrones(selected_pos, read_iso_dict, cutter.geometry[0], area, 'time_foot_all_20200902')"
   ]
  },
  {
   "cell_type": "code",
   "execution_count": null,
   "metadata": {},
   "outputs": [],
   "source": [
    "# save time isochrones for walking/foot, points with capacity smaller or equal to 0.75\n",
    "selected_pos = pos[pos['Capacity'] <= 0.75]\n",
    "save_isochrones(selected_pos, read_iso_dict, cutter.geometry[0], area, 'time_foot_le075_20200902')"
   ]
  },
  {
   "cell_type": "code",
   "execution_count": null,
   "metadata": {
    "scrolled": true
   },
   "outputs": [],
   "source": [
    "# save time isochrones for walking/foot, points with capacity bigger than 0.75\n",
    "selected_pos = pos[pos.eval(\"Capacity > 0.75\")]\n",
    "save_isochrones(selected_pos, read_iso_dict, cutter.geometry[0], area, 'time_foot_gt075_20200902')"
   ]
  },
  {
   "cell_type": "markdown",
   "metadata": {},
   "source": [
    "## Foot distance"
   ]
  },
  {
   "cell_type": "code",
   "execution_count": null,
   "metadata": {},
   "outputs": [],
   "source": [
    "with open('Wales_distance_isochrones_foot_all.json', 'r') as f:\n",
    "    read_iso_dict = json.load(f)\n",
    "\n",
    "len(read_iso_dict)\n",
    "\n",
    "read_iso_dict['9526'].keys()\n",
    "\n",
    "plt.hist(pos['Capacity'], bins=20)\n",
    "plt.show()"
   ]
  },
  {
   "cell_type": "code",
   "execution_count": null,
   "metadata": {},
   "outputs": [],
   "source": [
    "selected_pos = pos\n",
    "save_isochrones(selected_pos, read_iso_dict, cutter.geometry[0], area, 'distance_foot_all_20200902')"
   ]
  },
  {
   "cell_type": "code",
   "execution_count": null,
   "metadata": {},
   "outputs": [],
   "source": [
    "selected_pos = pos[pos['Capacity'] <= 0.75]\n",
    "save_isochrones(selected_pos, read_iso_dict, cutter.geometry[0], area, 'distance_foot_le075_20200902')"
   ]
  },
  {
   "cell_type": "code",
   "execution_count": null,
   "metadata": {},
   "outputs": [],
   "source": [
    "selected_pos = pos[pos.eval(\"Capacity > 0.75\")]\n",
    "save_isochrones(selected_pos, read_iso_dict, cutter.geometry[0], area, 'distance_foot_gt075_20200902')"
   ]
  },
  {
   "cell_type": "markdown",
   "metadata": {},
   "source": [
    "## Car Time"
   ]
  },
  {
   "cell_type": "code",
   "execution_count": null,
   "metadata": {},
   "outputs": [],
   "source": [
    "with open('Wales_time_isochrones_car_all.json', 'r') as f:\n",
    "    read_iso_dict = json.load(f)\n",
    "\n",
    "len(read_iso_dict)\n",
    "\n",
    "read_iso_dict['9526'].keys()\n",
    "\n",
    "plt.hist(pos['Capacity'], bins=20)\n",
    "plt.show()"
   ]
  },
  {
   "cell_type": "code",
   "execution_count": null,
   "metadata": {},
   "outputs": [],
   "source": [
    "selected_pos = pos\n",
    "save_isochrones(selected_pos, read_iso_dict, cutter.geometry[0], area, 'time_car_all_20200902')"
   ]
  },
  {
   "cell_type": "code",
   "execution_count": null,
   "metadata": {},
   "outputs": [],
   "source": [
    "selected_pos = pos[pos['Capacity'] <= 0.75]\n",
    "save_isochrones(selected_pos, read_iso_dict, cutter.geometry[0], area, 'time_car_le075_20200902')"
   ]
  },
  {
   "cell_type": "code",
   "execution_count": null,
   "metadata": {},
   "outputs": [],
   "source": [
    "selected_pos = pos[pos.eval(\"Capacity > 0.75\")]\n",
    "save_isochrones(selected_pos, read_iso_dict, cutter.geometry[0], area, 'time_car_gt075_20200902')"
   ]
  },
  {
   "cell_type": "markdown",
   "metadata": {},
   "source": [
    "## Car Distance"
   ]
  },
  {
   "cell_type": "code",
   "execution_count": null,
   "metadata": {},
   "outputs": [],
   "source": [
    "with open('Wales_distance_isochrones_car_all.json', 'r') as f:\n",
    "    read_iso_dict = json.load(f)\n",
    "\n",
    "len(read_iso_dict)\n",
    "\n",
    "read_iso_dict['9526'].keys()\n",
    "\n",
    "plt.hist(pos['Capacity'], bins=20)\n",
    "plt.show()"
   ]
  },
  {
   "cell_type": "code",
   "execution_count": null,
   "metadata": {},
   "outputs": [],
   "source": [
    "selected_pos = pos\n",
    "save_isochrones(selected_pos, read_iso_dict, cutter.geometry[0], area, 'distance_car_all_20200902')"
   ]
  },
  {
   "cell_type": "code",
   "execution_count": null,
   "metadata": {},
   "outputs": [],
   "source": [
    "selected_pos = pos[pos['Capacity'] <= 0.75]\n",
    "save_isochrones(selected_pos, read_iso_dict, cutter.geometry[0], area, 'distance_car_le075_20200902')"
   ]
  },
  {
   "cell_type": "code",
   "execution_count": null,
   "metadata": {},
   "outputs": [],
   "source": [
    "selected_pos = pos[pos.eval(\"Capacity > 0.75\")]\n",
    "save_isochrones(selected_pos, read_iso_dict, cutter.geometry[0], area, 'distance_car_gt075_20200902')"
   ]
  },
  {
   "cell_type": "markdown",
   "metadata": {},
   "source": [
    "### End"
   ]
  },
  {
   "cell_type": "code",
   "execution_count": null,
   "metadata": {},
   "outputs": [],
   "source": [
    "selected_pos = pos[pos['Capacity'] > 1.25]\n",
    "save_isochrones(selected_pos, read_iso_dict, cutter.geometry[0], area, 'distance_foot_more125_pop')"
   ]
  },
  {
   "cell_type": "code",
   "execution_count": null,
   "metadata": {
    "scrolled": true
   },
   "outputs": [],
   "source": [
    "selected_pos = pos[pos.eval(\"Capacity >= 0.75 & (Capacity <= 1.25)\")]\n",
    "save_isochrones(selected_pos, read_iso_dict, cutter.geometry[0], area, 'distance_foot_more075_less125_pop')"
   ]
  },
  {
   "cell_type": "code",
   "execution_count": null,
   "metadata": {},
   "outputs": [],
   "source": [
    "selected_pos = pos[pos.eval(\"Capacity > 0.5\")]\n",
    "save_isochrones(selected_pos, read_iso_dict, cutter.geometry[0], area, 'time_foot_more_05_pop')"
   ]
  },
  {
   "cell_type": "code",
   "execution_count": null,
   "metadata": {},
   "outputs": [],
   "source": [
    "def plot_isochrones(sel_pos, iso_dict, cutter, area, title):\n",
    "    print('Selecting data...')\n",
    "    po_ids = [str(po_id) for po_id in sel_pos['ID']]\n",
    "    print('Extractig isochrones for selected POs...')\n",
    "    isos_1m = [shape(v['iso-1m']['geometry']) for k, v in iso_dict.items() if k in po_ids]\n",
    "    isos_3m = [shape(v['iso-3m']['geometry']) for k, v in iso_dict.items() if k in po_ids]\n",
    "    isos_6m = [shape(v['iso-6m']['geometry']) for k, v in iso_dict.items() if k in po_ids]\n",
    "    print(f'Selected for 1m iso: {len(isos_1m)}')\n",
    "    print(f'Selected for 3m iso: {len(isos_3m)}')\n",
    "    print(f'Selected for 6m iso: {len(isos_6m)}')\n",
    "    print('Calculating unions...', end='')\n",
    "    iso_union_1m = cascaded_union(isos_1m)\n",
    "    print(' 1m ', end='')\n",
    "    iso_union_3m = cascaded_union(isos_3m)\n",
    "    print(' 3m ', end='')\n",
    "    iso_union_6m = cascaded_union(isos_6m)\n",
    "    print(' 6m')\n",
    "    print('Clipping popygons...')\n",
    "    clip_iso_union_1m = iso_union_1m.intersection(cutter)\n",
    "    print(' 1m ', end='')\n",
    "    clip_iso_union_3m = iso_union_3m.intersection(cutter)\n",
    "    print(' 3m ', end='')\n",
    "    clip_iso_union_6m = iso_union_6m.intersection(cutter)\n",
    "    print(' 6m')\n",
    "    print('Plotting...')\n",
    "    f, ax = plt.subplots(1, figsize=(12, 12))\n",
    "    # Extract limits for UK map\n",
    "    # w, s, e, n = area.total_bounds\n",
    "    # Center figure on the limits of Wiltsh\n",
    "    # ax.set_xlim((w, e))\n",
    "    # ax.set_ylim((s, n))\n",
    "    area.plot(facecolor='none', edgecolor='gray', linewidth=0.1, ax=ax)\n",
    "    ax.set_aspect('equal', 'datalim')\n",
    "    ax.add_patch(PolygonPatch(clip_iso_union_6m, fc='gray', ec='gray', alpha=0.25))\n",
    "    ax.add_patch(PolygonPatch(clip_iso_union_3m, fc='gray', ec='gray', alpha=0.5))\n",
    "    ax.add_patch(PolygonPatch(clip_iso_union_1m, fc='gray', ec='gray', alpha=0.75))\n",
    "    # Add figure title\n",
    "    f.suptitle(title)\n",
    "    plt.show()    "
   ]
  },
  {
   "cell_type": "markdown",
   "metadata": {},
   "source": [
    "### All POs "
   ]
  },
  {
   "cell_type": "code",
   "execution_count": null,
   "metadata": {},
   "outputs": [],
   "source": [
    "selected_pos = pos"
   ]
  },
  {
   "cell_type": "code",
   "execution_count": null,
   "metadata": {},
   "outputs": [],
   "source": [
    "plot_isochrones(selected_pos, read_iso_dict, cutter.geometry[0], area,\n",
    "                title='Wales\\nAccess Isochrones Foot 1m, 3m 6m\\nAll Post Offices')"
   ]
  },
  {
   "cell_type": "markdown",
   "metadata": {},
   "source": [
    "## Capacity >= 23h / week"
   ]
  },
  {
   "cell_type": "code",
   "execution_count": null,
   "metadata": {},
   "outputs": [],
   "source": [
    "selected_pos = pos[pos['Capacity'] >= 0.5]"
   ]
  },
  {
   "cell_type": "code",
   "execution_count": null,
   "metadata": {},
   "outputs": [],
   "source": [
    "plot_isochrones(selected_pos, read_iso_dict, cutter.geometry[0], area,\n",
    "                title='Wales\\nAccess Isochrones 1m, 3m 6m\\nPost Offices with office hours >= 23h / week')"
   ]
  },
  {
   "cell_type": "markdown",
   "metadata": {},
   "source": [
    "## Capacity > 46 h / week"
   ]
  },
  {
   "cell_type": "code",
   "execution_count": null,
   "metadata": {},
   "outputs": [],
   "source": [
    "selected_pos = pos[pos['Capacity'] > 1.0]"
   ]
  },
  {
   "cell_type": "code",
   "execution_count": null,
   "metadata": {},
   "outputs": [],
   "source": [
    "plot_isochrones(selected_pos, read_iso_dict, cutter.geometry[0], area,\n",
    "                title='Wales\\nAccess Isochrones 1m, 3m 6m\\nPost Offices with office hours > 46h / week')"
   ]
  },
  {
   "cell_type": "code",
   "execution_count": null,
   "metadata": {},
   "outputs": [],
   "source": [
    "# <0.75"
   ]
  },
  {
   "cell_type": "code",
   "execution_count": null,
   "metadata": {},
   "outputs": [],
   "source": [
    "selected_pos = pos[pos['Capacity'] < 0.75]"
   ]
  },
  {
   "cell_type": "code",
   "execution_count": null,
   "metadata": {},
   "outputs": [],
   "source": [
    "plot_isochrones(selected_pos, read_iso_dict, cutter.geometry[0], area,\n",
    "                title='Wales\\nAccess Time Foot Isochrones 5, 10, 20 mins \\nPost Offices with capacity <0.75 ')"
   ]
  },
  {
   "cell_type": "code",
   "execution_count": null,
   "metadata": {},
   "outputs": [],
   "source": [
    "#>1.25"
   ]
  },
  {
   "cell_type": "code",
   "execution_count": null,
   "metadata": {},
   "outputs": [],
   "source": [
    "selected_pos = pos[pos['Capacity'] > 1.25]"
   ]
  },
  {
   "cell_type": "code",
   "execution_count": null,
   "metadata": {},
   "outputs": [],
   "source": [
    "plot_isochrones(selected_pos, read_iso_dict, cutter.geometry[0], area,\n",
    "                title='Wales\\nAccess Time Foot Isochrones 5, 10, 20mins\\nPost Offices with capacity > 1.25')"
   ]
  },
  {
   "cell_type": "code",
   "execution_count": null,
   "metadata": {},
   "outputs": [],
   "source": [
    "# btw 0.75 and 1.25"
   ]
  },
  {
   "cell_type": "code",
   "execution_count": null,
   "metadata": {},
   "outputs": [],
   "source": [
    "selected_pos = pos[pos.eval(\"Capacity >= 0.75 & (Capacity <= 1.25)\")]"
   ]
  },
  {
   "cell_type": "code",
   "execution_count": null,
   "metadata": {},
   "outputs": [],
   "source": [
    "plot_isochrones(selected_pos, read_iso_dict, cutter.geometry[0], area,\n",
    "                title='Wales\\nAccess Time Foot Isochrones 5, 10, 15mins\\nPost Offices with capacity <=0.75 and >= 1.25')"
   ]
  },
  {
   "cell_type": "markdown",
   "metadata": {},
   "source": [
    "## Population based on Output Area"
   ]
  },
  {
   "cell_type": "code",
   "execution_count": null,
   "metadata": {},
   "outputs": [],
   "source": [
    "# all OA in UK\n",
    "OA_UK_path = ('../data/infuse_oa_lyr_2011_clipped')\n",
    "OA_UK = gpd.read_file(OA_UK_path)"
   ]
  },
  {
   "cell_type": "code",
   "execution_count": null,
   "metadata": {},
   "outputs": [],
   "source": [
    "# selection of Ooutput Areas for Wales only\n",
    "OA_Wales = OA_UK[OA_UK['geo_code'].str.startswith('W')]"
   ]
  },
  {
   "cell_type": "code",
   "execution_count": null,
   "metadata": {},
   "outputs": [],
   "source": [
    "OA_Wales"
   ]
  },
  {
   "cell_type": "code",
   "execution_count": null,
   "metadata": {},
   "outputs": [],
   "source": [
    "OA_Wales_geo_path = '../data/OA_Wales_geo'\n",
    "OA_Wales.to_file(OA_Wales_geo_path)"
   ]
  },
  {
   "cell_type": "code",
   "execution_count": null,
   "metadata": {},
   "outputs": [],
   "source": [
    "# OA population for Wales\n",
    "OA_Wales_pop_path = '../data/COA_Wales_population_2019.csv'\n",
    "OA_Wales_pop = pd.read_csv(OA_Wales_pop_path)"
   ]
  },
  {
   "cell_type": "code",
   "execution_count": null,
   "metadata": {},
   "outputs": [],
   "source": [
    "OA_Wales_pop"
   ]
  },
  {
   "cell_type": "code",
   "execution_count": null,
   "metadata": {},
   "outputs": [],
   "source": [
    "# merge population of the OA boundaries shapefile\n",
    "OA_Wales = OA_Wales.merge(OA_Wales_pop, left_on='geo_code', right_on='OA11CD')"
   ]
  },
  {
   "cell_type": "code",
   "execution_count": null,
   "metadata": {},
   "outputs": [],
   "source": [
    "# convert to CRS 4326\n",
    "OA_Wales.to_crs('epsg:4326', inplace=True)"
   ]
  },
  {
   "cell_type": "code",
   "execution_count": null,
   "metadata": {},
   "outputs": [],
   "source": [
    "# save OA boundaries and population as shapefile\n",
    "OA_Wales.to_file(OA_Wales_geo_path)"
   ]
  },
  {
   "cell_type": "code",
   "execution_count": null,
   "metadata": {},
   "outputs": [],
   "source": [
    "# define parameters for the function calculating the population by isochrones\n",
    "range_types = ['distance', 'time']\n",
    "profiles = ['car', 'foot']\n",
    "capacities = ['all', 'gt075', 'le075']\n",
    "thresholds = ['t1', 't2', 't3']\n",
    "date_stamp = '20200902'"
   ]
  },
  {
   "cell_type": "code",
   "execution_count": null,
   "metadata": {},
   "outputs": [],
   "source": [
    "# create a dataframe called calculations in order to store here the population by isochrones. \n",
    "# I run this function for all the combinations of parameters and save the resulting population nr.\n",
    "\n",
    "calculations = pd.DataFrame()\n",
    "\n",
    "for range_type in range_types:\n",
    "    for profile in profiles:\n",
    "        for capacity in capacities:\n",
    "            for threshold in thresholds:\n",
    "                iso_file = f'unionisochrones_{range_type}_{profile}_{capacity}_{date_stamp}_{threshold}'\n",
    "                isochrone = gpd.read_file(iso_file)\n",
    "#                 if isochrone.crs is None:\n",
    "#                     isochrone.crs = {'init': 'epsg:4326', 'no_defs': True}\n",
    "                iso_shape = isochrone.iloc[0].geometry\n",
    "                population = 0\n",
    "                for index, oa in tqdm(OA_Wales.iterrows(), total=len(OA_Wales)):\n",
    "                    intersect = oa.geometry.intersection(iso_shape)\n",
    "                    population += float(oa.Population.replace(',', '')) * intersect.area / oa.geometry.area\n",
    "                calculations.append({'type': range_type,\n",
    "                                     'profile': profile,\n",
    "                                     'capacity': capacity,\n",
    "                                     'threshold': threshold,\n",
    "                                     'pop': population}, ignore_index=True)\n",
    "                print(f'added: {range_type}-{profile}-{capacity}-{threshold} = {population}')"
   ]
  },
  {
   "cell_type": "code",
   "execution_count": null,
   "metadata": {},
   "outputs": [],
   "source": []
  }
 ],
 "metadata": {
  "kernelspec": {
   "display_name": "GIS2020",
   "language": "python",
   "name": "gis2020"
  },
  "language_info": {
   "codemirror_mode": {
    "name": "ipython",
    "version": 3
   },
   "file_extension": ".py",
   "mimetype": "text/x-python",
   "name": "python",
   "nbconvert_exporter": "python",
   "pygments_lexer": "ipython3",
   "version": "3.7.10"
  }
 },
 "nbformat": 4,
 "nbformat_minor": 2
}
